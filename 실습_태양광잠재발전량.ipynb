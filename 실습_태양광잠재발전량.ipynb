{
  "nbformat": 4,
  "nbformat_minor": 0,
  "metadata": {
    "colab": {
      "provenance": []
    },
    "kernelspec": {
      "name": "python3",
      "display_name": "Python 3"
    },
    "language_info": {
      "name": "python"
    }
  },
  "cells": [
    {
      "cell_type": "code",
      "source": [
        "from google.colab import drive\n",
        "drive.mount('/content/drive')"
      ],
      "metadata": {
        "colab": {
          "base_uri": "https://localhost:8080/"
        },
        "id": "2xMOlnG-Gf33",
        "outputId": "38318f4a-a8cb-45de-8d52-2dc1e686c6b6"
      },
      "execution_count": 1,
      "outputs": [
        {
          "output_type": "stream",
          "name": "stdout",
          "text": [
            "Mounted at /content/drive\n"
          ]
        }
      ]
    },
    {
      "cell_type": "code",
      "execution_count": 2,
      "metadata": {
        "id": "Hgen7JKIGEJ1"
      },
      "outputs": [],
      "source": [
        "import pandas as pd\n",
        "import numpy as np\n",
        "from datetime import datetime, timedelta\n",
        "import os\n",
        "from io import StringIO"
      ]
    },
    {
      "cell_type": "code",
      "source": [
        "OUT_DIR = \"/content/drive/MyDrive/실습용\"\n",
        "NAS_DIR = \"/content/drive/MyDrive/실습용\"\n",
        "MODEL = \"IO15_v070_erlo_unis_h0\""
      ],
      "metadata": {
        "id": "mP_i5GxRGQ5u"
      },
      "execution_count": 6,
      "outputs": []
    },
    {
      "cell_type": "code",
      "source": [
        "excel_path = os.path.join(OUT_DIR, \"STATION/STN_INFO.xlsx\")\n",
        "Stn_data = pd.read_excel(excel_path)\n",
        "\n",
        "# 열 선택, 이름 변경, 정렬\n",
        "Stn_data = Stn_data[['지점', '지점명', '지점주소', '위도', '경도', '노장해발고도']]\n",
        "Stn_data = Stn_data.rename(columns={'지점': 'stn_id', '지점명': 'stn_name',\n",
        "                                    '지점주소': 'stn_addr', '위도': 'lat',\n",
        "                                    '경도': 'lon', '노장해발고도': 'hgt'})\n",
        "Stn_data = Stn_data.sort_values(by='stn_id')"
      ],
      "metadata": {
        "id": "7eOjGsWoGVhx"
      },
      "execution_count": 7,
      "outputs": []
    },
    {
      "cell_type": "code",
      "source": [
        "# STN_ID\n",
        "STN_ID = Stn_data['stn_id']\n",
        "\n",
        "# VAR\n",
        "VAR = pd.DataFrame({'stn_id': [0], 'var': [0.0], 'datetime': [\"\"],\n",
        "                    'fcsttime': [\"\"], 'leadtime': [0]})\n",
        "\n",
        "# s_data\n",
        "s_data = pd.DataFrame(Stn_data.apply(lambda row: f\"{row['stn_id']}/{row['lon']}/{row['lat']}\",\n",
        "                                     axis=1).str.split('/').tolist(),\n",
        "                      columns=['stn_id', 'lon', 'lat'])\n",
        "\n",
        "# Coordinate_log\n",
        "Coordinate_log = pd.DataFrame({'log': [\"\"]})"
      ],
      "metadata": {
        "id": "qYfBoPSjHGPf"
      },
      "execution_count": 8,
      "outputs": []
    },
    {
      "cell_type": "code",
      "source": [
        "# 주어진 날짜 문자열을 datetime 객체로 변환\n",
        "given_date_str = \"2023-10-25\"\n",
        "given_date = datetime.strptime(given_date_str, \"%Y-%m-%d\")"
      ],
      "metadata": {
        "id": "2Fy1l6zbHZO2"
      },
      "execution_count": 9,
      "outputs": []
    },
    {
      "cell_type": "code",
      "source": [
        "# 예시 날짜\n",
        "given_date = datetime(2023, 10, 25)\n",
        "\n",
        "# DATE_LIST 정의\n",
        "DATE_LIST = given_date\n",
        "# Check if the length of SRT is not 10\n",
        "SRT = given_date.strftime(\"%Y%m%d\") + \"00\"\n",
        "if len(SRT) != 10:\n",
        "    print(\"Error: Check the number of letters on the start and end days.\")\n",
        "    quit()  # Program quit\n",
        "\n",
        "record_range = [1, 15, 16, 21]\n",
        "\n",
        "VAR = pd.DataFrame(columns=['stn_id', 'var', 'datetime', 'fcsttime', 'leadtime'])\n",
        "\n",
        "for HH in range(15, 39):\n",
        "    filepath = os.path.join(NAS_DIR, f\"{SRT}/{MODEL}{HH:02d}.2023102512.gb2\")\n",
        "    print(filepath)\n",
        "    if os.path.exists(filepath):\n",
        "        print(f\"{SRT} leadtime: {HH}\")\n",
        "\n",
        "        for i in range(3, len(s_data), 3):\n",
        "            for RNum in record_range:\n",
        "                DATETIME = DATE_LIST + timedelta(hours=9)\n",
        "                FCSTTIME = DATETIME + timedelta(hours=HH)\n",
        "\n",
        "                # 파일 경로를 수정했어\n",
        "                filepath = os.path.join(NAS_DIR, f\"{DATE_LIST.strftime('%Y%m%d')}{MODEL}{HH:02d}.gb2\")\n",
        "                VAR = pd.DataFrame(columns=['stn_id', 'var', 'datetime', 'fcsttime', 'leadtime'])\n",
        "\n",
        "        print(f\"loading... \")\n",
        "    else:\n",
        "        print(f\"########## {DATE_LIST} leadtime: {HH} is NA ##########\")\n",
        "\n",
        "print(\"-----------------------\")\n",
        "# 'spread data' and 'data preprocessing'\n",
        "raw_data = VAR.iloc[:, [4, 2, 3, 0, 1]]\n",
        "raw_data = raw_data.iloc[1:, :]\n",
        "raw_data['group'] = pd.Series(['solar', 'u_ws', 'v_ws', 'temp']).repeat(len(raw_data) // 4)\n",
        "result_data = raw_data.pivot(index='stn_id', columns='group', values='var').reset_index()\n",
        "\n",
        "out_fcst = DATE_LIST.strftime('%Y%m%d') + '09'\n",
        "out_made = (DATE_LIST + timedelta(days=1)).strftime('%Y%m%d') + '06'\n",
        "\n",
        "OUT_PATH = os.path.join(OUT_DIR, \"WEATHER\", f\"fcst_{out_fcst}_for24h_made_{out_made}_VAR.csv\")\n",
        "\n",
        "result_data.to_csv(OUT_PATH, sep=',', index=False, quotechar='\"', quoting=0, mode='a')\n",
        "\n",
        "print(\"########## UM-LDAPS data loading completed! ##########\")\n"
      ],
      "metadata": {
        "colab": {
          "base_uri": "https://localhost:8080/"
        },
        "id": "p24MxglNHd8x",
        "outputId": "823cf370-9f70-41f7-8aeb-663561eea59d"
      },
      "execution_count": null,
      "outputs": [
        {
          "output_type": "stream",
          "name": "stdout",
          "text": [
            "/content/drive/MyDrive/실습용/2023102500/l015_v070_erlo_unis_h015.2023102512.gb2\n",
            "2023102500 leadtime: 15\n",
            "loading... \n",
            "/content/drive/MyDrive/실습용/2023102500/l015_v070_erlo_unis_h016.2023102512.gb2\n",
            "2023102500 leadtime: 16\n",
            "loading... \n",
            "/content/drive/MyDrive/실습용/2023102500/l015_v070_erlo_unis_h017.2023102512.gb2\n",
            "2023102500 leadtime: 17\n",
            "loading... \n",
            "/content/drive/MyDrive/실습용/2023102500/l015_v070_erlo_unis_h018.2023102512.gb2\n",
            "2023102500 leadtime: 18\n",
            "loading... \n",
            "/content/drive/MyDrive/실습용/2023102500/l015_v070_erlo_unis_h019.2023102512.gb2\n",
            "2023102500 leadtime: 19\n",
            "loading... \n",
            "/content/drive/MyDrive/실습용/2023102500/l015_v070_erlo_unis_h020.2023102512.gb2\n",
            "2023102500 leadtime: 20\n",
            "loading... \n",
            "/content/drive/MyDrive/실습용/2023102500/l015_v070_erlo_unis_h021.2023102512.gb2\n",
            "2023102500 leadtime: 21\n",
            "loading... \n",
            "/content/drive/MyDrive/실습용/2023102500/l015_v070_erlo_unis_h022.2023102512.gb2\n",
            "2023102500 leadtime: 22\n",
            "loading... \n",
            "/content/drive/MyDrive/실습용/2023102500/l015_v070_erlo_unis_h023.2023102512.gb2\n",
            "2023102500 leadtime: 23\n",
            "loading... \n",
            "/content/drive/MyDrive/실습용/2023102500/l015_v070_erlo_unis_h024.2023102512.gb2\n",
            "2023102500 leadtime: 24\n",
            "loading... \n",
            "/content/drive/MyDrive/실습용/2023102500/l015_v070_erlo_unis_h025.2023102512.gb2\n",
            "2023102500 leadtime: 25\n",
            "loading... \n",
            "/content/drive/MyDrive/실습용/2023102500/l015_v070_erlo_unis_h026.2023102512.gb2\n",
            "2023102500 leadtime: 26\n",
            "loading... \n",
            "/content/drive/MyDrive/실습용/2023102500/l015_v070_erlo_unis_h027.2023102512.gb2\n",
            "2023102500 leadtime: 27\n",
            "loading... \n",
            "/content/drive/MyDrive/실습용/2023102500/l015_v070_erlo_unis_h028.2023102512.gb2\n",
            "2023102500 leadtime: 28\n",
            "loading... \n",
            "/content/drive/MyDrive/실습용/2023102500/l015_v070_erlo_unis_h029.2023102512.gb2\n",
            "2023102500 leadtime: 29\n",
            "loading... \n",
            "/content/drive/MyDrive/실습용/2023102500/l015_v070_erlo_unis_h030.2023102512.gb2\n",
            "2023102500 leadtime: 30\n",
            "loading... \n",
            "/content/drive/MyDrive/실습용/2023102500/l015_v070_erlo_unis_h031.2023102512.gb2\n",
            "2023102500 leadtime: 31\n",
            "loading... \n",
            "/content/drive/MyDrive/실습용/2023102500/l015_v070_erlo_unis_h032.2023102512.gb2\n",
            "2023102500 leadtime: 32\n",
            "loading... \n",
            "/content/drive/MyDrive/실습용/2023102500/l015_v070_erlo_unis_h033.2023102512.gb2\n",
            "2023102500 leadtime: 33\n",
            "loading... \n",
            "/content/drive/MyDrive/실습용/2023102500/l015_v070_erlo_unis_h034.2023102512.gb2\n",
            "2023102500 leadtime: 34\n",
            "loading... \n",
            "/content/drive/MyDrive/실습용/2023102500/l015_v070_erlo_unis_h035.2023102512.gb2\n",
            "2023102500 leadtime: 35\n",
            "loading... \n",
            "/content/drive/MyDrive/실습용/2023102500/l015_v070_erlo_unis_h036.2023102512.gb2\n",
            "2023102500 leadtime: 36\n",
            "loading... \n",
            "/content/drive/MyDrive/실습용/2023102500/l015_v070_erlo_unis_h037.2023102512.gb2\n",
            "2023102500 leadtime: 37\n",
            "loading... \n",
            "/content/drive/MyDrive/실습용/2023102500/l015_v070_erlo_unis_h038.2023102512.gb2\n",
            "2023102500 leadtime: 38\n",
            "loading... \n",
            "-----------------------\n",
            "########## UM-LDAPS data loading completed! ##########\n"
          ]
        }
      ]
    },
    {
      "cell_type": "code",
      "source": [
        "# Load data\n",
        "power_curve = pd.read_csv(os.path.join(OUT_DIR, \"POWER_CURVE/wind_turbine_3000kw_power_curve.csv\"))\n",
        "rawdata = pd.read_csv(os.path.join('/content/drive/MyDrive/실습용/WEATHER', f\"fcst_{out_made}_for24h_made_{out_fcst}_VAR.csv\"), encoding=\"euc-kr\")\n",
        "\n",
        "# Load Region data\n",
        "Region_solar_gen = pd.read_excel(os.path.join(OUT_DIR, \"REGION_GEN/Region_gen.xlsx\"), sheet_name=\"solar\")\n",
        "Region_wind_gen = pd.read_excel(os.path.join(OUT_DIR, \"REGION_GEN/Region_gen.xlsx\"), sheet_name=\"wind\")\n",
        "\n",
        "# Rename and select columns for Region data\n",
        "Region_solar_gen = Region_solar_gen[['관측 번호', '설비용량', '지역구분', '지역번호']]\n",
        "Region_solar_gen = Region_solar_gen.rename(columns={'관측 번호': 'stn_id', '설비용량': 'solar_cap', '지역번호': 'AREA'})\n",
        "\n",
        "Region_wind_gen = Region_wind_gen[['관측 번호', '설비용량']]\n",
        "Region_wind_gen = Region_wind_gen.rename(columns={'관측 번호': 'stn_id', '설비용량': 'wind_cap'})\n",
        "\n",
        "# Rename columns in power_curve\n",
        "power_curve = power_curve.rename(columns={'Cp': 'WT_Cp'})\n",
        "\n",
        "# Merge dataframes\n",
        "Poten_data = pd.merge(rawdata, Region_solar_gen, on='stn_id', how='left')\n",
        "Poten_data = pd.merge(Poten_data, Region_wind_gen, on='stn_id', how='left')\n",
        "\n",
        "# Rename and convert columns\n",
        "Poten_data = Poten_data.rename(columns={'solar': 'direct_SR', 'temp': 'temp_air'})\n",
        "Poten_data['temp_air'] = Poten_data['temp_air'] - 273.15\n",
        "\n",
        "# Handle negative direct_SR values\n",
        "Poten_data['direct_SR'] = Poten_data['direct_SR'].apply(lambda x: 0 if x < 0 else x)\n",
        "\n",
        "# Solar panel module temperature calculation\n",
        "Poten_data['solar_panel_temp'] = Poten_data['temp_air'] + ((45 - 20) / 800) * Poten_data['direct_SR']\n",
        "\n",
        "# Convert datetime and fcsttime columns to datetime format\n",
        "Poten_data['datetime'] = pd.to_datetime(Poten_data['datetime'])\n",
        "Poten_data['fcsttime'] = pd.to_datetime(Poten_data['fcsttime'])\n"
      ],
      "metadata": {
        "id": "0e0btgn6MkjP"
      },
      "execution_count": null,
      "outputs": []
    },
    {
      "cell_type": "code",
      "source": [
        "# 태양광 에너지 잠재량 산출(단위:kW)\n",
        "Poten_data['SD_EPotential'] = Poten_data['solar_cap'] * (\n",
        "            Poten_data['direct_SR'] / 800) * (1 - (abs(alpha) * (Poten_data['solar_panel_temp'] - 20))) * beta\n",
        "\n",
        "Poten_data['SD_EPotential'] = np.where(Poten_data['SD_EPotential'] < 0, 0, Poten_data['SD_EPotential'])\n",
        "\n",
        "# 결과 데이터 생성\n",
        "result_solar = Poten_data[['AREA', 'datetime', 'fcsttime', 'leadtime', 'SD_EPotential', 'solar_cap']].copy()\n",
        "result_solar.rename(columns={\"AREA\": \"AREA_CD\", \"datetime\": \"CRTN_TM\", \"fcsttime\": \"FCST_TM\", \"leadtime\": \"LEAD_TM\",\n",
        "                              \"SD_EPotential\": \"FCST_EP\", \"solar_cap\": \"FCST_CAPA\"}, inplace=True)\n",
        "result_solar['PWR_EXC_TP_CD'] = 1\n",
        "result_solar = result_solar[\n",
        "    ['PWR_EXC_TP_CD', 'AREA_CD', 'CRTN_TM', 'FCST_TM', 'LEAD_TM', 'FCST_EP', 'FCST_CAPA']].dropna()\n",
        "\n",
        "result_solar['AREA_CD'] = result_solar['AREA_CD'].replace({\n",
        "    1: \"강원도\",\n",
        "    2: \"경기도\",\n",
        "    3: \"경상남도\",\n",
        "    4: \"경상북도\",\n",
        "    5: \"전라남도\",\n",
        "    6: \"전라북도\",\n",
        "    7: \"충청남도\",\n",
        "    8: \"충청북도\",\n",
        "    9: \"제주도\"\n",
        "})"
      ],
      "metadata": {
        "id": "Pvo4xStUZlG3"
      },
      "execution_count": null,
      "outputs": []
    },
    {
      "cell_type": "code",
      "source": [
        "import pandas as pd\n",
        "import numpy as np\n",
        "import math\n",
        "\n",
        "# Constants\n",
        "rho = 1.225  # Air density (kg/m^3)\n",
        "pi = math.pi  # Pi value\n",
        "r = 40  # Turbine radius (m)\n",
        "\n",
        "# Solar energy potential calculation\n",
        "Poten_data['SD_EPotential'] = Poten_data['solar_cap'] * (Poten_data['direct_SR'] / 800) * (1 - (np.abs(alpha) * (Poten_data['solar_panel_temp'] - 20))) * beta\n",
        "Poten_data['SD_EPotential'] = np.where(Poten_data['SD_EPotential'] < 0, 0, Poten_data['SD_EPotential'])\n",
        "\n",
        "# Select and rename columns for solar and wind results\n",
        "result_solar = Poten_data[['AREA', 'datetime', 'fcsttime', 'leadtime', 'SD_EPotential', 'solar_cap']].copy()\n",
        "result_solar = result_solar.rename(columns={'AREA': 'AREA_CD', 'datetime': 'CRTN_TM', 'fcsttime': 'FCST_TM', 'leadtime': 'LEAD_TM', 'SD_EPotential': 'FCST_EP', 'solar_cap': 'FCST_CAPA'})\n",
        "result_solar['PWR_EXC_TP_CD'] = 1\n",
        "result_solar = result_solar[['PWR_EXC_TP_CD', 'AREA_CD', 'CRTN_TM', 'FCST_TM', 'LEAD_TM', 'FCST_EP', 'FCST_CAPA']].dropna()\n",
        "result_solar['AREA_CD'] = result_solar['AREA_CD'].replace({1: '강원도', 2: '경기도', 3: '경상남도', 4: '경상북도', 5: '전라남도', 6: '전라북도', 7: '충청남도', 8: '충청북도', 9: '제주도'})\n",
        "\n",
        "\n",
        "# Save to CSV\n",
        "result_solar.to_csv(\"/content/drive/MyDrive/실습용/result_solar.csv\", index=False, encoding='cp949')\n"
      ],
      "metadata": {
        "id": "HVDwyuaeHdCH"
      },
      "execution_count": null,
      "outputs": []
    }
  ]
}